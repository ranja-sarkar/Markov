{
 "cells": [
  {
   "cell_type": "code",
   "execution_count": 1,
   "metadata": {},
   "outputs": [],
   "source": [
    "import pandas as pd\n",
    "import numpy as np\n",
    "import matplotlib.pyplot as plt\n",
    "#% matplotlib inline"
   ]
  },
  {
   "cell_type": "code",
   "execution_count": 2,
   "metadata": {},
   "outputs": [],
   "source": [
    "\n",
    "filename = r'results_w1d_m3hr.csv'\n",
    "dateparse = lambda x: pd.datetime.strptime(x, '%Y-%m-%d')\n",
    "df_w1d_m3hr = pd.read_csv(filename, parse_dates = ['timestamp'], date_parser = dateparse)\n",
    "df_w1d_m3hr.set_index('timestamp', inplace = True)\n",
    "#df_w1d_m3hr.head()\n",
    "\n",
    "filename = r'results_w2d_m3hr.csv'\n",
    "dateparse = lambda x: pd.datetime.strptime(x, '%Y-%m-%d')\n",
    "df_w2d_m3hr = pd.read_csv(filename, parse_dates=['timestamp'], date_parser = dateparse)\n",
    "df_w2d_m3hr.set_index('timestamp',inplace = True)\n",
    "#df_w2d_m3hr.head()\n",
    "\n",
    "filename = r'results_w3d_m3hr.csv'\n",
    "dateparse = lambda x: pd.datetime.strptime(x, '%Y-%m-%d')\n",
    "df_w3d_m3hr = pd.read_csv(filename, parse_dates = ['timestamp'], date_parser = dateparse)\n",
    "df_w3d_m3hr.set_index('timestamp', inplace = True)\n",
    "#df_w3d_m3hr.head()\n",
    "\n",
    "filename = r'results_w4d_m3hr.csv'\n",
    "dateparse = lambda x: pd.datetime.strptime(x, '%Y-%m-%d')\n",
    "df_w4d_m3hr = pd.read_csv(filename, parse_dates = ['timestamp'], date_parser = dateparse)\n",
    "df_w4d_m3hr.set_index('timestamp', inplace = True)\n",
    "#df_w4d_m3hr.head()\n",
    "\n"
   ]
  },
  {
   "cell_type": "code",
   "execution_count": 3,
   "metadata": {},
   "outputs": [],
   "source": [
    "w1d = df_w1d_m3hr['flips_ratio'].tolist()\n",
    "w2d = df_w2d_m3hr['flips_ratio'].tolist()\n",
    "w3d = df_w3d_m3hr['flips_ratio'].tolist()\n",
    "w4d = df_w4d_m3hr['flips_ratio'].tolist()\n"
   ]
  },
  {
   "cell_type": "code",
   "execution_count": 4,
   "metadata": {},
   "outputs": [],
   "source": [
    "flips_data = [w1d, w2d, w3d, w4d]"
   ]
  },
  {
   "cell_type": "code",
   "execution_count": 5,
   "metadata": {},
   "outputs": [
    {
     "data": {
      "image/png": "[encoded data removed]",
      "text/plain": [
       "<Figure size 648x432 with 1 Axes>"
      ]
     },
     "metadata": {
      "needs_background": "light"
     },
     "output_type": "display_data"
    }
   ],
   "source": [
    "# Create a figure instance\n",
    "fig = plt.figure(1, figsize=(9, 6))\n",
    "\n",
    "# Create an axes instance\n",
    "ax = fig.add_subplot(111)\n",
    "\n",
    "# Create the boxplot\n",
    "bp = ax.boxplot(flips_data, patch_artist=True)\n",
    "\n",
    "## Custom x-axis labels\n",
    "ax.set_xticklabels(['w1d', 'w2d', 'w3d', 'w4d'])\n",
    "ax.set_ylabel('Flips Ratio', color='#000000')\n",
    "ax.set_title('Flips Ratio (Margin = 3hr)')\n",
    "\n",
    "## change outline color, fill color and linewidth of the boxes\n",
    "for box in bp['boxes']:\n",
    "    # change outline color\n",
    "    box.set( color='#000000', linewidth=2)\n",
    "    # change fill color\n",
    "    #box.set( facecolor = '#ffffff' )\n",
    "    box.set( facecolor = '#6a8f61' )\n",
    "    \n",
    "\n",
    "## change color and linewidth of the whiskers\n",
    "for whisker in bp['whiskers']:\n",
    "    whisker.set(color='#000000', linewidth=2)\n",
    "\n",
    "## change color and linewidth of the caps\n",
    "for cap in bp['caps']:\n",
    "    cap.set(color='#000000', linewidth=2)\n",
    "\n",
    "## change color and linewidth of the medians\n",
    "for median in bp['medians']:\n",
    "    median.set(color='#000000', linewidth=2)\n",
    "\n",
    "## change the style of fliers and their fill\n",
    "for flier in bp['fliers']:\n",
    "    flier.set(marker='o', color='#e7298a', alpha=0.5)\n",
    "\n",
    "# Save the figure\n",
    "#fig.savefig('fig1.png', bbox_inches='tight')"
   ]
  },
  {
   "cell_type": "code",
   "execution_count": 7,
   "metadata": {},
   "outputs": [],
   "source": [
    "w1d = df_w1d_m3hr['anomaly_ratio'].tolist()\n",
    "w2d = df_w2d_m3hr['anomaly_ratio'].tolist()\n",
    "w3d = df_w3d_m3hr['anomaly_ratio'].tolist()\n",
    "w4d = df_w4d_m3hr['anomaly_ratio'].tolist()\n"
   ]
  },
  {
   "cell_type": "code",
   "execution_count": 8,
   "metadata": {},
   "outputs": [],
   "source": [
    "anomaly_data = [w1d, w2d, w3d, w4d]"
   ]
  },
  {
   "cell_type": "code",
   "execution_count": 9,
   "metadata": {},
   "outputs": [
    {
     "data": {
      "image/png": "[encoded data removed]",
      "text/plain": [
       "<Figure size 648x432 with 1 Axes>"
      ]
     },
     "metadata": {
      "needs_background": "light"
     },
     "output_type": "display_data"
    }
   ],
   "source": [
    "# Create a figure instance\n",
    "fig = plt.figure(1, figsize=(9, 6))\n",
    "\n",
    "# Create an axes instance\n",
    "ax = fig.add_subplot(111)\n",
    "\n",
    "# Create the boxplot\n",
    "bp = ax.boxplot(anomaly_data, patch_artist=True)\n",
    "\n",
    "## Custom x-axis labels\n",
    "ax.set_xticklabels(['w1d', 'w2d', 'w3d', 'w4d'])\n",
    "ax.set_ylabel('Anomaly Ratio', color='#000000')\n",
    "ax.set_title('Anomaly Ratio (Margin = 3hr)')\n",
    "\n",
    "## change outline color, fill color and linewidth of the boxes\n",
    "for box in bp['boxes']:\n",
    "    # change outline color\n",
    "    box.set( color='#000000', linewidth=2)\n",
    "    # change fill color\n",
    "    #box.set( facecolor = '#ffffff' )\n",
    "    box.set( facecolor = '#d45050' )\n",
    "    \n",
    "\n",
    "## change color and linewidth of the whiskers\n",
    "for whisker in bp['whiskers']:\n",
    "    whisker.set(color='#000000', linewidth=2)\n",
    "\n",
    "## change color and linewidth of the caps\n",
    "for cap in bp['caps']:\n",
    "    cap.set(color='#000000', linewidth=2)\n",
    "\n",
    "## change color and linewidth of the medians\n",
    "for median in bp['medians']:\n",
    "    median.set(color='#000000', linewidth=2)\n",
    "\n",
    "## change the style of fliers and their fill\n",
    "for flier in bp['fliers']:\n",
    "    flier.set(marker='o', color='#e7298a', alpha=0.5)\n",
    "# Save the figure\n",
    "#fig.savefig('fig1.png', bbox_inches='tight')"
   ]
  },
  {
   "cell_type": "code",
   "execution_count": 10,
   "metadata": {},
   "outputs": [],
   "source": [
    "w1d = df_w1d_m3hr['model_uptime_ratio'].tolist()\n",
    "w2d = df_w2d_m3hr['model_uptime_ratio'].tolist()\n",
    "w3d = df_w3d_m3hr['model_uptime_ratio'].tolist()\n",
    "w4d = df_w4d_m3hr['model_uptime_ratio'].tolist()\n"
   ]
  },
  {
   "cell_type": "code",
   "execution_count": 11,
   "metadata": {},
   "outputs": [],
   "source": [
    "model_uptime_data = [w1d, w2d, w3d, w4d]"
   ]
  },
  {
   "cell_type": "code",
   "execution_count": 13,
   "metadata": {},
   "outputs": [
    {
     "data": {
      "image/png": "[encoded data removed]",
      "text/plain": [
       "<Figure size 648x432 with 1 Axes>"
      ]
     },
     "metadata": {
      "needs_background": "light"
     },
     "output_type": "display_data"
    }
   ],
   "source": [
    "# Create a figure instance\n",
    "fig = plt.figure(1, figsize=(9, 6))\n",
    "\n",
    "# Create an axes instance\n",
    "ax = fig.add_subplot(111)\n",
    "\n",
    "# Create the boxplot\n",
    "bp = ax.boxplot(model_uptime_data, patch_artist=True)\n",
    "\n",
    "## Custom x-axis labels\n",
    "ax.set_xticklabels(['w1d', 'w2d', 'w3d', 'w4d'])\n",
    "ax.set_ylabel('Model Uptime Ratio', color='#000000')\n",
    "ax.set_title('Model Uptime Ratio (Margin = 3hr)')\n",
    "\n",
    "## change outline color, fill color and linewidth of the boxes\n",
    "for box in bp['boxes']:\n",
    "    # change outline color\n",
    "    box.set( color='#000000', linewidth=2)\n",
    "    # change fill color\n",
    "    #box.set( facecolor = '#ffffff' )\n",
    "    box.set( facecolor = '#517a85' )\n",
    "    \n",
    "\n",
    "## change color and linewidth of the whiskers\n",
    "for whisker in bp['whiskers']:\n",
    "    whisker.set(color='#000000', linewidth=2)\n",
    "\n",
    "## change color and linewidth of the caps\n",
    "for cap in bp['caps']:\n",
    "    cap.set(color='#000000', linewidth=2)\n",
    "\n",
    "## change color and linewidth of the medians\n",
    "for median in bp['medians']:\n",
    "    median.set(color='#000000', linewidth=2)\n",
    "\n",
    "## change the style of fliers and their fill\n",
    "for flier in bp['fliers']:\n",
    "    flier.set(marker='o', color='#e7298a', alpha=0.5)\n",
    "\n",
    "# Save the figure\n",
    "#fig.savefig('fig1.png', bbox_inches='tight')"
   ]
  },
  {
   "cell_type": "code",
   "execution_count": 14,
   "metadata": {},
   "outputs": [],
   "source": [
    "w1d = df_w1d_m3hr['counter_flips_ratio'].tolist()\n",
    "w2d = df_w2d_m3hr['counter_flips_ratio'].tolist()\n",
    "w3d = df_w3d_m3hr['counter_flips_ratio'].tolist()\n",
    "w4d = df_w4d_m3hr['counter_flips_ratio'].tolist()\n"
   ]
  },
  {
   "cell_type": "code",
   "execution_count": 15,
   "metadata": {},
   "outputs": [],
   "source": [
    "counter_flips_data = [w1d, w2d, w3d, w4d]"
   ]
  },
  {
   "cell_type": "code",
   "execution_count": 16,
   "metadata": {},
   "outputs": [
    {
     "data": {
      "image/png": "[encoded data removed]",
      "text/plain": [
       "<Figure size 648x432 with 1 Axes>"
      ]
     },
     "metadata": {
      "needs_background": "light"
     },
     "output_type": "display_data"
    }
   ],
   "source": [
    "# Create a figure instance\n",
    "fig = plt.figure(1, figsize=(9, 6))\n",
    "\n",
    "# Create an axes instance\n",
    "ax = fig.add_subplot(111)\n",
    "\n",
    "# Create the boxplot\n",
    "bp = ax.boxplot(counter_flips_data, patch_artist=True)\n",
    "\n",
    "## Custom x-axis labels\n",
    "ax.set_xticklabels(['w1d', 'w2d', 'w3d', 'w4d'])\n",
    "ax.set_ylabel('Counter Flips Ratio', color='#000000')\n",
    "ax.set_title('Counter Flips Ratio (Margin = 3hr)')\n",
    "\n",
    "## change outline color, fill color and linewidth of the boxes\n",
    "for box in bp['boxes']:\n",
    "    # change outline color\n",
    "    box.set( color='#000000', linewidth=2)\n",
    "    # change fill color\n",
    "    #box.set( facecolor = '#ffffff' )\n",
    "    box.set( facecolor = '#517a85' )\n",
    "    \n",
    "\n",
    "## change color and linewidth of the whiskers\n",
    "for whisker in bp['whiskers']:\n",
    "    whisker.set(color='#000000', linewidth=2)\n",
    "\n",
    "## change color and linewidth of the caps\n",
    "for cap in bp['caps']:\n",
    "    cap.set(color='#000000', linewidth=2)\n",
    "\n",
    "## change color and linewidth of the medians\n",
    "for median in bp['medians']:\n",
    "    median.set(color='#000000', linewidth=2)\n",
    "\n",
    "## change the style of fliers and their fill\n",
    "for flier in bp['fliers']:\n",
    "    flier.set(marker='o', color='#e7298a', alpha=0.5)\n",
    "\n",
    "# Save the figure\n",
    "#fig.savefig('fig1.png', bbox_inches='tight')"
   ]
  },
  {
   "cell_type": "code",
   "execution_count": null,
   "metadata": {},
   "outputs": [],
   "source": []
  }
 ],
 "metadata": {
  "kernelspec": {
   "display_name": "Python 3",
   "language": "python",
   "name": "python3"
  },
  "language_info": {
   "codemirror_mode": {
    "name": "ipython",
    "version": 3
   },
   "file_extension": ".py",
   "mimetype": "text/x-python",
   "name": "python",
   "nbconvert_exporter": "python",
   "pygments_lexer": "ipython3",
   "version": "3.6.8"
  }
 },
 "nbformat": 4,
 "nbformat_minor": 2
}
