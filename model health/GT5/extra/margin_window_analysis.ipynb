{
 "cells": [
  {
   "cell_type": "code",
   "execution_count": 22,
   "metadata": {},
   "outputs": [],
   "source": [
    "import pandas as pd\n",
    "import numpy as np\n",
    "import matplotlib.pyplot as plt\n",
    "#%matplotlib notebook"
   ]
  },
  {
   "cell_type": "code",
   "execution_count": 23,
   "metadata": {},
   "outputs": [],
   "source": [
    "filename = r'results_w1d_m1hr.csv'\n",
    "dateparse = lambda x: pd.datetime.strptime(x, '%Y-%m-%d')\n",
    "df_w1d_m1hr = pd.read_csv(filename, parse_dates = ['timestamp'], date_parser = dateparse)\n",
    "df_w1d_m1hr.set_index('timestamp', inplace = True)\n",
    "#df_w1d_m1hr['date'] = df.index\n",
    "#df_w1d_m1hr.head()\n",
    "\n",
    "filename = r'results_w1d_m2hr.csv'\n",
    "dateparse = lambda x: pd.datetime.strptime(x, '%Y-%m-%d')\n",
    "df_w1d_m2hr = pd.read_csv(filename, parse_dates = ['timestamp'], date_parser = dateparse)\n",
    "df_w1d_m2hr.set_index('timestamp',inplace = True)\n",
    "#df_w1d_m2hr['date'] = df.index\n",
    "#df_w1d_m2hr.head()\n",
    "\n",
    "filename = r'results_w1d_m3hr.csv'\n",
    "dateparse = lambda x: pd.datetime.strptime(x, '%Y-%m-%d')\n",
    "df_w1d_m3hr = pd.read_csv(filename, parse_dates = ['timestamp'], date_parser = dateparse)\n",
    "df_w1d_m3hr.set_index('timestamp', inplace = True)\n",
    "#df_w1d_m3hr['date'] = df.index\n",
    "#df_w1d_m3hr.head()\n",
    "\n",
    "filename = r'results_w1d_m4hr.csv'\n",
    "dateparse = lambda x: pd.datetime.strptime(x, '%Y-%m-%d')\n",
    "df_w1d_m4hr = pd.read_csv(filename, parse_dates = ['timestamp'], date_parser = dateparse)\n",
    "df_w1d_m4hr.set_index('timestamp', inplace = True)\n",
    "#df_w1d_m4hr['date'] = df.index\n",
    "#df_w1d_m4hr.head()\n",
    "\n",
    "#filename = r''\n",
    "#dateparse = lambda x: pd.datetime.strptime(x, '%Y-%m-%d')\n",
    "#df_w1d_m5hr = pd.read_csv(filename, parse_dates=['timestamp'], date_parser=dateparse)\n",
    "#df_w1d_m5hr.set_index('timestamp',inplace=True)\n",
    "##df_w1d_m5hr['date'] = df.index\n",
    "#df_w1d_m5hr.head()\n"
   ]
  },
  {
   "cell_type": "code",
   "execution_count": 24,
   "metadata": {},
   "outputs": [],
   "source": [
    "m1hr = df_w1d_m1hr['flips_ratio'].tolist()\n",
    "m2hr = df_w1d_m2hr['flips_ratio'].tolist()\n",
    "m3hr = df_w1d_m3hr['flips_ratio'].tolist()\n",
    "m4hr = df_w1d_m4hr['flips_ratio'].tolist()\n"
   ]
  },
  {
   "cell_type": "code",
   "execution_count": 25,
   "metadata": {},
   "outputs": [],
   "source": [
    "flips_data = [m1hr, m2hr, m3hr, m4hr]"
   ]
  },
  {
   "cell_type": "code",
   "execution_count": 26,
   "metadata": {},
   "outputs": [
    {
     "data": {
      "image/png": "[encoded data removed]",
      "text/plain": [
       "<Figure size 648x432 with 1 Axes>"
      ]
     },
     "metadata": {
      "needs_background": "light"
     },
     "output_type": "display_data"
    }
   ],
   "source": [
    "# Create a figure instance\n",
    "fig = plt.figure(1, figsize=(9, 6))\n",
    "\n",
    "# Create an axes instance\n",
    "ax = fig.add_subplot(111)\n",
    "\n",
    "# Create the boxplot\n",
    "bp = ax.boxplot(flips_data, patch_artist=True)\n",
    "\n",
    "## Custom x-axis labels\n",
    "ax.set_xticklabels(['m1hr', 'm2hr', 'm3hr', 'm4hr'])\n",
    "ax.set_ylabel('Flips Ratio', color='#000000')\n",
    "ax.set_title('Flips Ratio (Window = 1 day)')\n",
    "\n",
    "## change outline color, fill color and linewidth of the boxes\n",
    "for box in bp['boxes']:\n",
    "    # change outline color\n",
    "    box.set( color='#000000', linewidth=2)\n",
    "    # change fill color\n",
    "    #box.set( facecolor = '#ffffff' )\n",
    "    box.set( facecolor = '#6a8f61' )\n",
    "    \n",
    "\n",
    "## change color and linewidth of the whiskers\n",
    "for whisker in bp['whiskers']:\n",
    "    whisker.set(color='#000000', linewidth=2)\n",
    "\n",
    "## change color and linewidth of the caps\n",
    "for cap in bp['caps']:\n",
    "    cap.set(color='#000000', linewidth=2)\n",
    "\n",
    "## change color and linewidth of the medians\n",
    "for median in bp['medians']:\n",
    "    median.set(color='#000000', linewidth=2)\n",
    "\n",
    "## change the style of fliers and their fill\n",
    "for flier in bp['fliers']:\n",
    "    flier.set(marker='o', color='#e7298a', alpha=0.5)\n",
    "\n",
    "# Save the figure\n",
    "#fig.savefig('fig1.png', bbox_inches='tight')"
   ]
  },
  {
   "cell_type": "code",
   "execution_count": 27,
   "metadata": {},
   "outputs": [],
   "source": [
    "m1hr = df_w1d_m1hr['anomaly_ratio'].tolist()\n",
    "m2hr = df_w1d_m2hr['anomaly_ratio'].tolist()\n",
    "m3hr = df_w1d_m3hr['anomaly_ratio'].tolist()\n",
    "m4hr = df_w1d_m4hr['anomaly_ratio'].tolist()\n"
   ]
  },
  {
   "cell_type": "code",
   "execution_count": 28,
   "metadata": {},
   "outputs": [],
   "source": [
    "anomaly_data = [m1hr, m2hr, m3hr, m4hr]"
   ]
  },
  {
   "cell_type": "code",
   "execution_count": 29,
   "metadata": {},
   "outputs": [
    {
     "data": {
      "image/png": "[encoded data removed]",
      "text/plain": [
       "<Figure size 648x432 with 1 Axes>"
      ]
     },
     "metadata": {
      "needs_background": "light"
     },
     "output_type": "display_data"
    }
   ],
   "source": [
    "# Create a figure instance\n",
    "fig = plt.figure(1, figsize=(9, 6))\n",
    "\n",
    "# Create an axes instance\n",
    "ax = fig.add_subplot(111)\n",
    "\n",
    "# Create the boxplot\n",
    "bp = ax.boxplot(anomaly_data, patch_artist=True)\n",
    "\n",
    "## Custom x-axis labels\n",
    "ax.set_xticklabels(['m1hr', 'm2hr', 'm3hr', 'm4hr'])\n",
    "ax.set_ylabel('Anomaly Ratio', color='#000000')\n",
    "ax.set_title('Anomaly Ratio (Window = 1 day)')\n",
    "\n",
    "## change outline color, fill color and linewidth of the boxes\n",
    "for box in bp['boxes']:\n",
    "    # change outline color\n",
    "    box.set( color='#000000', linewidth=2)\n",
    "    # change fill color\n",
    "    #box.set( facecolor = '#ffffff' )\n",
    "    box.set( facecolor = '#d45050' )\n",
    "    \n",
    "\n",
    "## change color and linewidth of the whiskers\n",
    "for whisker in bp['whiskers']:\n",
    "    whisker.set(color='#000000', linewidth=2)\n",
    "\n",
    "## change color and linewidth of the caps\n",
    "for cap in bp['caps']:\n",
    "    cap.set(color='#000000', linewidth=2)\n",
    "\n",
    "## change color and linewidth of the medians\n",
    "for median in bp['medians']:\n",
    "    median.set(color='#000000', linewidth=2)\n",
    "\n",
    "## change the style of fliers and their fill\n",
    "for flier in bp['fliers']:\n",
    "    flier.set(marker='o', color='#e7298a', alpha=0.5)\n",
    "\n",
    "# Save the figure\n",
    "#fig.savefig('fig1.png', bbox_inches='tight')"
   ]
  },
  {
   "cell_type": "code",
   "execution_count": 30,
   "metadata": {},
   "outputs": [],
   "source": [
    "m1hr = df_w1d_m1hr['model_uptime_ratio'].tolist()\n",
    "m2hr = df_w1d_m2hr['model_uptime_ratio'].tolist()\n",
    "m3hr = df_w1d_m3hr['model_uptime_ratio'].tolist()\n",
    "m4hr = df_w1d_m4hr['model_uptime_ratio'].tolist()"
   ]
  },
  {
   "cell_type": "code",
   "execution_count": 31,
   "metadata": {},
   "outputs": [],
   "source": [
    "model_uptime_data = [m1hr, m2hr, m3hr, m4hr]"
   ]
  },
  {
   "cell_type": "code",
   "execution_count": 32,
   "metadata": {},
   "outputs": [
    {
     "data": {
      "image/png": "[encoded data removed]",
      "text/plain": [
       "<Figure size 648x432 with 1 Axes>"
      ]
     },
     "metadata": {
      "needs_background": "light"
     },
     "output_type": "display_data"
    }
   ],
   "source": [
    "# Create a figure instance\n",
    "fig = plt.figure(1, figsize=(9, 6))\n",
    "\n",
    "# Create an axes instance\n",
    "ax = fig.add_subplot(111)\n",
    "\n",
    "# Create the boxplot\n",
    "bp = ax.boxplot(uptime_data, patch_artist=True)\n",
    "\n",
    "## Custom x-axis labels\n",
    "ax.set_xticklabels(['m1hr', 'm2hr', 'm3hr', 'm4hr'])\n",
    "ax.set_ylabel('Model Uptime Ratio', color='#000000')\n",
    "ax.set_title('Model Uptime Ratio (Window = 1 day)')\n",
    "\n",
    "## change outline color, fill color and linewidth of the boxes\n",
    "for box in bp['boxes']:\n",
    "    # change outline color\n",
    "    box.set( color='#000000', linewidth=2)\n",
    "    # change fill color\n",
    "    #box.set( facecolor = '#ffffff' )\n",
    "    box.set( facecolor = '#517a85' )\n",
    "    \n",
    "\n",
    "## change color and linewidth of the whiskers\n",
    "for whisker in bp['whiskers']:\n",
    "    whisker.set(color='#000000', linewidth=2)\n",
    "\n",
    "## change color and linewidth of the caps\n",
    "for cap in bp['caps']:\n",
    "    cap.set(color='#000000', linewidth=2)\n",
    "\n",
    "## change color and linewidth of the medians\n",
    "for median in bp['medians']:\n",
    "    median.set(color='#000000', linewidth=2)\n",
    "\n",
    "## change the style of fliers and their fill\n",
    "for flier in bp['fliers']:\n",
    "    flier.set(marker='o', color='#e7298a', alpha=0.5)\n",
    "\n",
    "plt.show()\n",
    "\n",
    "# Save the figure\n",
    "#fig.savefig('fig1.png', bbox_inches='tight')"
   ]
  },
  {
   "cell_type": "code",
   "execution_count": 33,
   "metadata": {},
   "outputs": [],
   "source": [
    "m1hr = df_w1d_m1hr['counter_flips_ratio'].tolist()\n",
    "m2hr = df_w1d_m2hr['counter_flips_ratio'].tolist()\n",
    "m3hr = df_w1d_m3hr['counter_flips_ratio'].tolist()\n",
    "m4hr = df_w1d_m4hr['counter_flips_ratio'].tolist()"
   ]
  },
  {
   "cell_type": "code",
   "execution_count": 34,
   "metadata": {},
   "outputs": [],
   "source": [
    "counter_flips_data = [m1hr, m2hr, m3hr, m4hr]"
   ]
  },
  {
   "cell_type": "code",
   "execution_count": 35,
   "metadata": {},
   "outputs": [
    {
     "data": {
      "image/png": "[encoded data removed]",
      "text/plain": [
       "<Figure size 648x432 with 1 Axes>"
      ]
     },
     "metadata": {
      "needs_background": "light"
     },
     "output_type": "display_data"
    }
   ],
   "source": [
    "# Create a figure instance\n",
    "fig = plt.figure(1, figsize=(9, 6))\n",
    "\n",
    "# Create an axes instance\n",
    "ax = fig.add_subplot(111)\n",
    "\n",
    "# Create the boxplot\n",
    "bp = ax.boxplot(counter_flips_data, patch_artist=True)\n",
    "\n",
    "## Custom x-axis labels\n",
    "ax.set_xticklabels(['m1hr', 'm2hr', 'm3hr', 'm4hr'])\n",
    "ax.set_ylabel('Counter Flips Ratio', color='#000000')\n",
    "ax.set_title('Counter Flips Ratio (Window = 1 day)')\n",
    "\n",
    "## change outline color, fill color and linewidth of the boxes\n",
    "for box in bp['boxes']:\n",
    "    # change outline color\n",
    "    box.set( color='#000000', linewidth=2)\n",
    "    # change fill color\n",
    "    #box.set( facecolor = '#ffffff' )\n",
    "    box.set( facecolor = '#d45050' )\n",
    "    \n",
    "\n",
    "## change color and linewidth of the whiskers\n",
    "for whisker in bp['whiskers']:\n",
    "    whisker.set(color='#000000', linewidth=2)\n",
    "\n",
    "## change color and linewidth of the caps\n",
    "for cap in bp['caps']:\n",
    "    cap.set(color='#000000', linewidth=2)\n",
    "\n",
    "## change color and linewidth of the medians\n",
    "for median in bp['medians']:\n",
    "    median.set(color='#000000', linewidth=2)\n",
    "\n",
    "## change the style of fliers and their fill\n",
    "for flier in bp['fliers']:\n",
    "    flier.set(marker='o', color='#e7298a', alpha=0.5)\n",
    "\n",
    "# Save the figure\n",
    "#fig.savefig('fig1.png', bbox_inches='tight')"
   ]
  },
  {
   "cell_type": "code",
   "execution_count": 180,
   "metadata": {},
   "outputs": [],
   "source": []
  },
  {
   "cell_type": "code",
   "execution_count": 181,
   "metadata": {},
   "outputs": [],
   "source": []
  },
  {
   "cell_type": "code",
   "execution_count": null,
   "metadata": {},
   "outputs": [],
   "source": []
  }
 ],
 "metadata": {
  "kernelspec": {
   "display_name": "Python 3",
   "language": "python",
   "name": "python3"
  },
  "language_info": {
   "codemirror_mode": {
    "name": "ipython",
    "version": 3
   },
   "file_extension": ".py",
   "mimetype": "text/x-python",
   "name": "python",
   "nbconvert_exporter": "python",
   "pygments_lexer": "ipython3",
   "version": "3.6.8"
  }
 },
 "nbformat": 4,
 "nbformat_minor": 2
}
