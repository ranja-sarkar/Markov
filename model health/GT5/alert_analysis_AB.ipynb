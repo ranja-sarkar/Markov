{
 "cells": [
  {
   "cell_type": "code",
   "execution_count": 1,
   "metadata": {},
   "outputs": [],
   "source": [
    "import pandas as pd\n",
    "import numpy as np\n",
    "#import matplotlib.pyplot as plt\n",
    "import datetime\n",
    "from datetime import timedelta\n",
    "\n",
    "import warnings\n",
    "warnings.filterwarnings(\"ignore\")\n",
    "\n",
    "import glob"
   ]
  },
  {
   "cell_type": "code",
   "execution_count": 2,
   "metadata": {},
   "outputs": [],
   "source": [
    "def determine_number_of_models(folder_to_search):\n",
    "    folders = [f for f in glob.glob(folder_to_search + \"**/\", recursive = True)]\n",
    "    model_location = []\n",
    "    model_names = []\n",
    "    for folderscounter in folders:\n",
    "        model_location = [f for f in glob.glob(folderscounter + \"/*tst_pred*\", recursive = True)]\n",
    "    if len(model_location) > 0:\n",
    "        for cnt in model_location:\n",
    "            split_str = cnt.split('\\\\')\n",
    "            model_names.append(split_str[-1][:-4])\n",
    "    \n",
    "    return len(model_location), model_location, model_names"
   ]
  },
  {
   "cell_type": "code",
   "execution_count": 3,
   "metadata": {},
   "outputs": [],
   "source": [
    "def load_excel(path):\n",
    "    dfoutput = pd.read_excel(path, parse_dates = ['Failure Time'])\n",
    "    return dfoutput"
   ]
  },
  {
   "cell_type": "code",
   "execution_count": 4,
   "metadata": {},
   "outputs": [],
   "source": [
    "def load_csv(path):\n",
    "    dateparse = lambda x: pd.datetime.strptime(x, '%Y-%m-%d %H:%M:%S')\n",
    "    dfoutput = pd.read_csv(path, parse_dates = ['timestamp'], date_parser = dateparse)\n",
    "    dfoutput.set_index(['timestamp'], inplace = True)\n",
    "#    dfoutput['date'] = dfoutput.index\n",
    "    return dfoutput"
   ]
  },
  {
   "cell_type": "code",
   "execution_count": null,
   "metadata": {},
   "outputs": [],
   "source": []
  },
  {
   "cell_type": "code",
   "execution_count": null,
   "metadata": {},
   "outputs": [],
   "source": []
  },
  {
   "cell_type": "code",
   "execution_count": 5,
   "metadata": {},
   "outputs": [],
   "source": [
    "def no_of_alerts_before_failure(df_failure, alert_results, model_name, output):\n",
    "    for cnt in range(len(df_failure)):                   \n",
    "        right_limit = df_failure.loc[cnt,'Failure Time']\n",
    "        left_limit = df_failure.loc[cnt,'Failure Time'] - timedelta(hours = 14*24)\n",
    "        sampdf = alert_results[(alert_results.index >= left_limit) & (alert_results.index < right_limit)]\n",
    "        sampdf = sampdf[(sampdf['system_status'] == 'online') & (sampdf['prediction'] == -1) & (sampdf['alert'] == 1)]\n",
    "        output.loc[cnt, model_name] = len(sampdf) \n",
    "    return output"
   ]
  },
  {
   "cell_type": "code",
   "execution_count": 6,
   "metadata": {},
   "outputs": [],
   "source": [
    "def timestamp_of_each_alert(df_failure, alert_results, model_name, output):\n",
    "    out = ''\n",
    "    for cnt in range(0, len(df_failure)):                   \n",
    "        right_limit = df_failure.loc[cnt,'Failure Time']\n",
    "        left_limit = df_failure.loc[cnt,'Failure Time'] - timedelta(hours = 14*24)\n",
    "        sampdf = alert_results[(alert_results.index >= left_limit) & (alert_results.index < right_limit)]\n",
    "        sampdf = sampdf[(sampdf['system_status'] == 'online') & (sampdf['prediction'] == -1) & (sampdf['alert'] == 1)]\n",
    "        for j in range(len(sampdf)):\n",
    "            output.loc[cnt, model_name + '_TS'] = sampdf.index[j]\n",
    "            out = out + (output.loc[cnt, model_name + '_TS']) + ';'\n",
    "                    \n",
    "    return out"
   ]
  },
  {
   "cell_type": "code",
   "execution_count": 7,
   "metadata": {},
   "outputs": [],
   "source": [
    "def isintop10(df_rca, sampdf, listofrcatags):\n",
    "    out = ''\n",
    "    if isinstance(listofrcatags, str):\n",
    "        splittags = listofrcatags.split(';')       \n",
    "        for i in range(len(sampdf)): \n",
    "#            print(i, len(sampdf))\n",
    "            templist = []\n",
    "            res = 0\n",
    "            for j in range(10):\n",
    "                templist.append(df_rca.loc[sampdf.index[i], 'top' + str(j+1)])           \n",
    "            for tagname in templist:\n",
    "                if tagname in splittags:\n",
    "                    res = 1     \n",
    "            if res == 1:\n",
    "                out = out + 'y' + ';'\n",
    "            if res == 0:\n",
    "                out = out + 'n' + ';'           \n",
    "    return out\n",
    "    \n",
    "    \n",
    "def evaluate_presence_of_root_cause_tags(df_failure, alert_results, model_name, df_rca, output):  \n",
    "    for cnt in range(0, len(df_failure)):\n",
    "        out = ''\n",
    "        right_limit = df_failure.loc[cnt,'Failure Time']\n",
    "        left_limit = df_failure.loc[cnt,'Failure Time'] - timedelta(hours = 14*24)\n",
    "        sampdf = alert_results[(alert_results.index >= left_limit) & (alert_results.index < right_limit)]\n",
    "        sampdf = sampdf[(sampdf['system_status'] == 'online') & (sampdf['prediction'] == -1) & (sampdf['alert'] == 1)]\n",
    "        output.loc[cnt, model_name + '_relevanttags'] = isintop10(df_rca, sampdf, df_failure.loc[cnt,'RCA_Tags'])\n",
    "        timeind =str()\n",
    "        for count in range(len(sampdf)):\n",
    "            timind = timeind + str(sampdf.index[count]) +';'\n",
    "            date_time = sampdf.index[count].strftime(\"%m/%d/%Y %H:%M:%S\")\n",
    "            timeind = timeind + date_time + ';'\n",
    "        output.loc[cnt, model_name + '_TS'] = timeind\n",
    "    return output\n"
   ]
  },
  {
   "cell_type": "code",
   "execution_count": 8,
   "metadata": {},
   "outputs": [],
   "source": [
    "def create_model_ids(model):\n",
    "    mid = []\n",
    "    for i in range(0, no_of_models):\n",
    "        m = 'M' + str(i)\n",
    "        mid.append(m)\n",
    "    return mid      \n",
    "\n",
    "def create_list(a, b, n):\n",
    "    output = ''\n",
    "    for i in range(int(n)):\n",
    "        output = output + str(a) + '.' + str(b) + '.' + str(i+1) + ';'\n",
    "    return output\n",
    "\n",
    "def generate_alert_ids(m, model_name, output):\n",
    "    for j in range(0, len(output)):\n",
    "        xx = create_list(m, j+1, output.loc[j, model_name])\n",
    "        output.loc[j, model_name + '_AlertIds'] = xx\n",
    "                               \n",
    "    return output\n"
   ]
  },
  {
   "cell_type": "code",
   "execution_count": 9,
   "metadata": {},
   "outputs": [],
   "source": [
    "def split_alerts_tags(df, model_name):\n",
    "    output = pd.DataFrame()\n",
    "    a = df[model_name + '_AlertIds'].str.split(';')\n",
    "    b = df[model_name + '_TS'].str.split(';')\n",
    "    c = df[model_name + '_relevanttags'].str.split(';')\n",
    "    k=0\n",
    "    for i in range(len(a)):\n",
    "        if a[i] != ['']:\n",
    "            for j in range(len(a[i])):\n",
    "                if len(a[i][j]) > 0 :\n",
    "                    output.loc[k,'AlertIds'] = a[i][j]\n",
    "                    output.loc[k,'TimeStamp'] = b[i][j]\n",
    "                    \n",
    "                    output.loc[k,'Failure Time'] = df.loc[i,'Failure Time']\n",
    "                    output.loc[k,'Actual_Tag'] = df.loc[i,'RCA_Tags']\n",
    "                    if c[i] != ['']:\n",
    "                        output.loc[k,'Relevant_Tag'] = c[i][j]\n",
    "                    \n",
    "                    \n",
    "                k=k+1\n",
    "            \n",
    "    output['TimeStamp'] = pd.to_datetime(output['TimeStamp'], format='%m/%d/%Y %H:%M:%S')\n",
    "    return output\n",
    "    \n",
    "def populate_top_10(df,df_rca):\n",
    "    for cnt in range(len(df)):\n",
    "        ts = df.loc[df.index[cnt],'TimeStamp']\n",
    "        top10=str()\n",
    "        top10 = df_rca.loc[ts,'top1']\n",
    "        top10 = top10 + ';' + df_rca.loc[ts,'top2']\n",
    "        top10 = top10 + ';' + df_rca.loc[ts,'top3']\n",
    "        top10 = top10 + ';' + df_rca.loc[ts,'top4']\n",
    "        top10 = top10 + ';' + df_rca.loc[ts,'top5']\n",
    "        top10 = top10 + ';' + df_rca.loc[ts,'top6']\n",
    "        top10 = top10 + ';' + df_rca.loc[ts,'top7']\n",
    "        top10 = top10 + ';' + df_rca.loc[ts,'top8']\n",
    "        top10 = top10 + ';' + df_rca.loc[ts,'top9']\n",
    "        top10 = top10 + ';' + df_rca.loc[ts,'top10']\n",
    "        df.loc[df.index[cnt],'Top10_Tag'] = top10\n",
    "    return df\n",
    " \n",
    "def find_rank(actual, model):\n",
    "    actual = str(actual).split(';')\n",
    "    model = str(model).split(';')\n",
    "    pos = ''\n",
    "    value = ''\n",
    "    for cnt in actual:\n",
    "        if cnt in model:\n",
    "            pos = pos + str(model.index(cnt)) + ';'\n",
    "            value = value + str(cnt) + ';'\n",
    "    return pos, value\n",
    "\n",
    "def populate_ranking(df):\n",
    "    for cnt in range(len(df)):\n",
    "        df.loc[df.index[cnt],'Matched_Tag'],df.loc[df.index[cnt],'Ranking'] = find_rank(df.loc[df.index[cnt],'Actual_Tag'],df.loc[df.index[cnt],'Top10_Tag'])\n",
    "    return df\n",
    "    "
   ]
  },
  {
   "cell_type": "markdown",
   "metadata": {},
   "source": [
    "# MAIN PROGRAM STARTS HERE"
   ]
  },
  {
   "cell_type": "code",
   "execution_count": 10,
   "metadata": {},
   "outputs": [],
   "source": [
    "# Specify the folder where the results file are placed\n",
    "folder_to_search = r'C:\\Users\\S.Chandrasekaran5\\Shell\\Kumar, Jitendra SSSCCH-FO XF - PAM Research Findings\\Qualitative KPI\\ONEGAS_LPC4\\KPI'\n",
    "# folder_to_search = r'C:\\Users\\S.Chandrasekaran5\\Shell\\Kumar, Jitendra SSSCCH-FO XF - PAM Research Findings\\Qualitative KPI\\GT5 Results'\n",
    "\n",
    "no_of_models, model_location, model_names = determine_number_of_models(folder_to_search)\n",
    "# Specify the input failure information file validated with the SMEs\n",
    "location_of_failure_file = r'C:\\Users\\S.Chandrasekaran5\\Shell\\Kumar, Jitendra SSSCCH-FO XF - PAM Research Findings\\Qualitative KPI\\ONEGAS_LPC4\\KPI\\NL_ONEGAS_LPC4_trips_with add info.xlsx'\n",
    "# location_of_failure_file = r'C:\\Users\\S.Chandrasekaran5\\Shell\\Kumar, Jitendra SSSCCH-FO XF - PAM Research Findings\\Qualitative KPI\\GT5 Results\\GT5-downtime.xlsx'\n",
    "df_failure = load_excel(location_of_failure_file)\n",
    "\n",
    "# Specify the input rca file \n",
    "location_of_rca_file = r'C:\\Users\\S.Chandrasekaran5\\Shell\\Kumar, Jitendra SSSCCH-FO XF - PAM Research Findings\\Qualitative KPI\\ONEGAS_LPC4\\KPI\\NL_ONEGAS_LPC4_w1d_01May2019_20Mar2020_rca_tag_rank.csv'\n",
    "# location_of_rca_file = r'C:\\Users\\S.Chandrasekaran5\\Shell\\Kumar, Jitendra SSSCCH-FO XF - PAM Research Findings\\Qualitative KPI\\GT5 Results\\Brunei_Champion_GT5_w1d_rca_by_rolling_z_score_01Aug2018_01Jul2019_rca_tag_rank.csv'\n",
    "df_rca = load_csv(location_of_rca_file)"
   ]
  },
  {
   "cell_type": "code",
   "execution_count": 11,
   "metadata": {},
   "outputs": [
    {
     "name": "stdout",
     "output_type": "stream",
     "text": [
      "Processing Model :  NL_ONEGAS_LPC4_tst_pred_w1d_m1hr_svm_nu0.001_krnrbf_gam0.001_01May2019_20Mar2020\n",
      "Processing Model :  NL_ONEGAS_LPC4_tst_pred_w1d_m1hr_svm_nu0.001_krnrbf_gam0.05_01May2019_20Mar2020\n",
      "Processing Model :  NL_ONEGAS_LPC4_tst_pred_w1d_m1hr_svm_nu0.01_krnrbf_gam0.001_01May2019_20Mar2020\n",
      "Processing Model :  NL_ONEGAS_LPC4_tst_pred_w1d_m1hr_svm_nu0.05_krnrbf_gam0.001_01May2019_20Mar2020\n",
      "Processing Model :  NL_ONEGAS_LPC4_tst_pred_w1d_m1hr_svm_nu0.05_krnrbf_gam0.05_01May2019_20Mar2020\n",
      "Processing Model :  NL_ONEGAS_LPC4_tst_pred_w1d_m4hr_svm_nu0.01_krnrbf_gam0.001_01May2019_20Mar2020\n"
     ]
    }
   ],
   "source": [
    "# Determine the first result:  Alert_Analysis_A\n",
    "k=0\n",
    "analysis_result_df = df_failure\n",
    "mid = create_model_ids(no_of_models)\n",
    "for cnt in model_location:\n",
    "    print('Processing Model : ', model_names[k])\n",
    "    alert_results = load_csv(cnt)\n",
    "    analysis_result_df = no_of_alerts_before_failure(df_failure, alert_results, model_names[k], analysis_result_df)\n",
    "    analysis_result_df = generate_alert_ids(mid[k], model_names[k], analysis_result_df)\n",
    "    analysis_result_df = evaluate_presence_of_root_cause_tags(df_failure, alert_results, model_names[k], df_rca, analysis_result_df)\n",
    "    k = k+1"
   ]
  },
  {
   "cell_type": "code",
   "execution_count": 12,
   "metadata": {},
   "outputs": [
    {
     "name": "stdout",
     "output_type": "stream",
     "text": [
      "Processing Model :  NL_ONEGAS_LPC4_tst_pred_w1d_m1hr_svm_nu0.001_krnrbf_gam0.001_01May2019_20Mar2020\n",
      "Processing Model :  NL_ONEGAS_LPC4_tst_pred_w1d_m1hr_svm_nu0.001_krnrbf_gam0.05_01May2019_20Mar2020\n",
      "Processing Model :  NL_ONEGAS_LPC4_tst_pred_w1d_m1hr_svm_nu0.01_krnrbf_gam0.001_01May2019_20Mar2020\n",
      "Processing Model :  NL_ONEGAS_LPC4_tst_pred_w1d_m1hr_svm_nu0.05_krnrbf_gam0.001_01May2019_20Mar2020\n",
      "Processing Model :  NL_ONEGAS_LPC4_tst_pred_w1d_m1hr_svm_nu0.05_krnrbf_gam0.05_01May2019_20Mar2020\n",
      "Processing Model :  NL_ONEGAS_LPC4_tst_pred_w1d_m4hr_svm_nu0.01_krnrbf_gam0.001_01May2019_20Mar2020\n"
     ]
    }
   ],
   "source": [
    "# Determine the Second result: Alert_Analysis_B\n",
    "deep_analysis_result_df = pd.DataFrame()\n",
    "for cnt in range(len(model_names)):\n",
    "    print('Processing Model : ', model_names[cnt])\n",
    "    res = split_alerts_tags(analysis_result_df, model_names[cnt])\n",
    "    if len(deep_analysis_result_df) == 0:\n",
    "        deep_analysis_result_df = res\n",
    "    else:\n",
    "        deep_analysis_result_df = deep_analysis_result_df.append(res, ignore_index = True)\n",
    "\n",
    "\n",
    "deep_analysis_result_df = populate_top_10(deep_analysis_result_df,df_rca)\n",
    "deep_analysis_result_df = populate_ranking(deep_analysis_result_df)"
   ]
  },
  {
   "cell_type": "code",
   "execution_count": 13,
   "metadata": {},
   "outputs": [],
   "source": [
    "analysis_result_df.to_csv('Alert_Analysis_A_LPC4.csv')\n",
    "deep_analysis_result_df.to_csv('Alert_Analysis_B_LPC4.csv')"
   ]
  },
  {
   "cell_type": "code",
   "execution_count": null,
   "metadata": {},
   "outputs": [],
   "source": [
    "# Final Evaluation \n",
    "# Get the analysis_result_df\n",
    "# For every model, check if the 'relevant_tags' column contains y and the avg alerts < 15, print selected else print unselected.\n"
   ]
  },
  {
   "cell_type": "code",
   "execution_count": null,
   "metadata": {},
   "outputs": [],
   "source": []
  }
 ],
 "metadata": {
  "kernelspec": {
   "display_name": "Python 3",
   "language": "python",
   "name": "python3"
  },
  "language_info": {
   "codemirror_mode": {
    "name": "ipython",
    "version": 3
   },
   "file_extension": ".py",
   "mimetype": "text/x-python",
   "name": "python",
   "nbconvert_exporter": "python",
   "pygments_lexer": "ipython3",
   "version": "3.6.8"
  }
 },
 "nbformat": 4,
 "nbformat_minor": 2
}
