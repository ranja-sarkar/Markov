{
 "cells": [
  {
   "cell_type": "markdown",
   "metadata": {},
   "source": [
    "# Thresholds: Average number of alerts (monthly)"
   ]
  },
  {
   "cell_type": "markdown",
   "metadata": {},
   "source": [
    "# Alerts overview"
   ]
  },
  {
   "cell_type": "code",
   "execution_count": 1,
   "metadata": {},
   "outputs": [],
   "source": [
    "import pandas as pd\n",
    "import numpy as np\n",
    "#import matplotlib.pyplot as plt\n",
    "import glob\n",
    "\n",
    "import warnings\n",
    "warnings.filterwarnings(\"ignore\")"
   ]
  },
  {
   "cell_type": "code",
   "execution_count": 2,
   "metadata": {},
   "outputs": [],
   "source": [
    "#load output files\n",
    "\n",
    "def determine_number_of_models(folder_to_search):\n",
    "    folders = [f for f in glob.glob(folder_to_search + \"**/\", recursive = True)]\n",
    "    model_location = []\n",
    "    model_names = []\n",
    "    for folderscounter in folders:\n",
    "        model_location = [f for f in glob.glob(folderscounter + \"/*tst_pred*\", recursive = True)]\n",
    "    if len(model_location) > 0:\n",
    "        for cnt in model_location:\n",
    "            split_str = cnt.split('\\\\')\n",
    "            model_names.append(split_str[-1][:-4])\n",
    "    \n",
    "    return len(model_location), model_location, model_names\n"
   ]
  },
  {
   "cell_type": "code",
   "execution_count": 3,
   "metadata": {},
   "outputs": [],
   "source": [
    "def load_csv(model):\n",
    "    dateparse = lambda x: pd.datetime.strptime(x, '%Y-%m-%d %H:%M:%S')\n",
    "    dfoutput = pd.read_csv(model, parse_dates = ['timestamp'], date_parser = dateparse)\n",
    "    dfoutput.set_index(['timestamp'], inplace = True)\n",
    "    return dfoutput\n"
   ]
  },
  {
   "cell_type": "code",
   "execution_count": 4,
   "metadata": {},
   "outputs": [],
   "source": [
    "def create_model_ids(models):\n",
    "    mid = []\n",
    "    for i in range(0, no_of_models):\n",
    "        m = 'M' + str(i+1)\n",
    "        mid.append(m)\n",
    "    return mid"
   ]
  },
  {
   "cell_type": "code",
   "execution_count": 5,
   "metadata": {},
   "outputs": [],
   "source": [
    "def create_new_columns(df, model_name):\n",
    "    df.prediction = df.prediction.replace(1, 0)\n",
    "    df.prediction = df.prediction.replace(-1, 1)\n",
    "\n",
    "    df['Anomalies'] = 0\n",
    "    df.loc[(df['system_status'] == 'online') & (df['prediction'] == 1), 'Anomalies'] = 1\n",
    "\n",
    "    df['Alerts'] = 0\n",
    "    df.loc[(df['system_status'] == 'online') & (df['alert'] == 1) & (df['prediction'] == 1), 'Alerts'] = 1\n",
    "    \n",
    "    return df\n",
    "\n",
    "def average_alerts(model_name):\n",
    "    avg_alerts = []\n",
    "    for cnt in model_location:\n",
    "        df = load_csv(cnt)\n",
    "        sampdf = create_new_columns(df, model_name)\n",
    "        sampdf = sampdf[['Anomalies','Alerts']].resample('M').sum()\n",
    "        xx = round(np.mean(sampdf['Alerts']), 2)\n",
    "        avg_alerts.append(xx)\n",
    "    return avg_alerts\n"
   ]
  },
  {
   "cell_type": "code",
   "execution_count": 6,
   "metadata": {},
   "outputs": [],
   "source": [
    "def results(model_name, avg_alerts):\n",
    "    mid = create_model_ids(no_of_models)\n",
    "    output_df = pd.DataFrame()\n",
    "    for i in range(0, no_of_models):\n",
    "        output_df.loc[i, 'ModelIds'] = mid[i]\n",
    "        output_df.loc[i, 'Models'] = model_names[i]\n",
    "        output_df.loc[i, 'Average Alerts'] = aa[i]\n",
    "        if aa[i] <= 15:\n",
    "            output_df.loc[i, 'Below Threshold'] = 'Y'\n",
    "        else:\n",
    "            output_df.loc[i, 'Below Threshold'] = 'N'\n",
    "            \n",
    "    return output_df\n"
   ]
  },
  {
   "cell_type": "code",
   "execution_count": null,
   "metadata": {},
   "outputs": [],
   "source": []
  },
  {
   "cell_type": "markdown",
   "metadata": {},
   "source": [
    "# GT5"
   ]
  },
  {
   "cell_type": "code",
   "execution_count": 7,
   "metadata": {},
   "outputs": [],
   "source": [
    "folder_to_search = r'C:/Users/Ranja.Sarkar/PAMre/KPIs/BSP_GT5/QualitativeKPI'\n",
    "no_of_models, model_location, model_names = determine_number_of_models(folder_to_search)\n"
   ]
  },
  {
   "cell_type": "code",
   "execution_count": 8,
   "metadata": {},
   "outputs": [
    {
     "name": "stdout",
     "output_type": "stream",
     "text": [
      "processing Brunei_Champion_GT5_tst_pred_w1d_m4hr_svm_nu0.01_krnrbf_gam0.01_01Aug2018_01Jul2019\n",
      "processing Brunei_Champion_GT5_tst_pred_w1d_m4hr_svm_nu0.01_krnrbf_gam0.03_01Aug2018_01Jul2019\n",
      "processing Brunei_Champion_GT5_tst_pred_w1d_m4hr_svm_nu0.02_krnrbf_gam0.01_01Aug2018_01Jul2019\n",
      "processing Brunei_Champion_GT5_tst_pred_w1d_m4hr_svm_nu0.02_krnrbf_gam0.03_01Aug2018_01Jul2019\n"
     ]
    }
   ],
   "source": [
    "k = 0\n",
    "for cnt in model_location:\n",
    "    print('processing', model_names[k])\n",
    "    aa = average_alerts(model_names[k])\n",
    "    analysis_result_df = results(model_names[k], aa)\n",
    "    k = k+1"
   ]
  },
  {
   "cell_type": "code",
   "execution_count": 10,
   "metadata": {},
   "outputs": [],
   "source": [
    "#analysis_result_df.to_csv('avg_monthly_alerts_GT5.csv')"
   ]
  },
  {
   "cell_type": "markdown",
   "metadata": {},
   "source": [
    "# LPC4"
   ]
  },
  {
   "cell_type": "code",
   "execution_count": 7,
   "metadata": {},
   "outputs": [],
   "source": [
    "folder_to_search = r'C:/Users/Ranja.Sarkar/PAMre/KPIs/BSP_GT5/QualitativeKPI/LPC4'\n",
    "no_of_models, model_location, model_names = determine_number_of_models(folder_to_search)"
   ]
  },
  {
   "cell_type": "code",
   "execution_count": 8,
   "metadata": {},
   "outputs": [
    {
     "name": "stdout",
     "output_type": "stream",
     "text": [
      "processing NL_ONEGAS_LPC4_tst_pred_w1d_m1hr_svm_nu0.001_krnrbf_gam0.001_01May2019_20Mar2020\n",
      "processing NL_ONEGAS_LPC4_tst_pred_w1d_m1hr_svm_nu0.001_krnrbf_gam0.05_01May2019_20Mar2020\n",
      "processing NL_ONEGAS_LPC4_tst_pred_w1d_m1hr_svm_nu0.01_krnrbf_gam0.001_01May2019_20Mar2020\n",
      "processing NL_ONEGAS_LPC4_tst_pred_w1d_m1hr_svm_nu0.05_krnrbf_gam0.001_01May2019_20Mar2020\n",
      "processing NL_ONEGAS_LPC4_tst_pred_w1d_m1hr_svm_nu0.05_krnrbf_gam0.05_01May2019_20Mar2020\n",
      "processing NL_ONEGAS_LPC4_tst_pred_w1d_m4hr_svm_nu0.01_krnrbf_gam0.001_01May2019_20Mar2020\n"
     ]
    }
   ],
   "source": [
    "k = 0\n",
    "for cnt in model_location:\n",
    "    print('processing', model_names[k])\n",
    "    aa = average_alerts(model_names[k])\n",
    "    analysis_result_df = results(model_names[k], aa)\n",
    "    k = k+1"
   ]
  },
  {
   "cell_type": "code",
   "execution_count": null,
   "metadata": {},
   "outputs": [],
   "source": [
    "#analysis_result_df.to_csv('avg_monthly_alerts_LPC4.csv')"
   ]
  },
  {
   "cell_type": "code",
   "execution_count": null,
   "metadata": {},
   "outputs": [],
   "source": []
  },
  {
   "cell_type": "code",
   "execution_count": null,
   "metadata": {},
   "outputs": [],
   "source": []
  },
  {
   "cell_type": "code",
   "execution_count": null,
   "metadata": {},
   "outputs": [],
   "source": []
  }
 ],
 "metadata": {
  "kernelspec": {
   "display_name": "Python 3",
   "language": "python",
   "name": "python3"
  },
  "language_info": {
   "codemirror_mode": {
    "name": "ipython",
    "version": 3
   },
   "file_extension": ".py",
   "mimetype": "text/x-python",
   "name": "python",
   "nbconvert_exporter": "python",
   "pygments_lexer": "ipython3",
   "version": "3.6.8"
  }
 },
 "nbformat": 4,
 "nbformat_minor": 2
}
