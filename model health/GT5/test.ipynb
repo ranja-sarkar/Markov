{
 "cells": [
  {
   "cell_type": "code",
   "execution_count": null,
   "metadata": {},
   "outputs": [],
   "source": [
    "import pandas as pd\n",
    "import numpy as np\n",
    "import matplotlib.pyplot as plt\n",
    "import glob\n",
    "\n",
    "import warnings\n",
    "warnings.filterwarnings(\"ignore\")"
   ]
  },
  {
   "cell_type": "code",
   "execution_count": null,
   "metadata": {},
   "outputs": [],
   "source": [
    "##filename1 = r'Brunei_Champion_GT5_tst_pred_w1d_m4hr_svm_nu0.01_krnrbf_gam0.01_01Aug2018_01Jul2019.csv'\n",
    "\n",
    "#dateparse = lambda x: pd.datetime.strptime(x, '%Y-%m-%d %H:%M:%S')\n",
    "##df1 = pd.read_csv(filename1, parse_dates = ['timestamp'])\n",
    "##df1.set_index('timestamp', inplace = True)\n",
    "##df1['date'] = df1.index\n",
    "\n",
    "##df1.prediction = df1.prediction.replace(1, 0)\n",
    "##df1.prediction = df1.prediction.replace(-1, 1)\n",
    "\n",
    "##df1['Anomalies'] = 0\n",
    "##df1.loc[(df1['system_status'] == 'online') & (df1['prediction'] == 1), 'Anomalies'] = 1\n",
    "\n",
    "##df1['sys_status'] = 0\n",
    "##df1.loc[(df1['system_status'] == 'online'), 'sys_status'] = 1\n",
    "\n",
    "##df1['Alerts'] = 0\n",
    "##df1.loc[(df1['system_status'] == 'online') & (df1['alert'] == 1) & (df1['prediction'] == 1), 'Alerts'] = 1"
   ]
  },
  {
   "cell_type": "code",
   "execution_count": null,
   "metadata": {},
   "outputs": [],
   "source": []
  },
  {
   "cell_type": "code",
   "execution_count": null,
   "metadata": {},
   "outputs": [],
   "source": []
  },
  {
   "cell_type": "code",
   "execution_count": null,
   "metadata": {},
   "outputs": [],
   "source": [
    "#monthly average alerts\n",
    "\n",
    "results_M1 = df1[['Anomalies','Alerts']].resample('M').sum()\n",
    "#M1_anomaly =  round(np.mean(results_M1['Anomalies']))  \n",
    "M1_alerts = round(np.mean(results_M1['Alerts']), 2) \n",
    "\n",
    "results_M2 = df2[['Anomalies','Alerts']].resample('M').sum()\n",
    "#M2_anomaly =  round(np.mean(results_M2['Anomalies']))\n",
    "M2_alerts = round(np.mean(results_M2['Alerts']), 2) \n",
    "\n",
    "results_M3 = df3[['Anomalies','Alerts']].resample('M').sum()\n",
    "M3_alerts = round(np.mean(results_M3['Alerts']), 2) \n",
    "\n",
    "results_M4 = df4[['Anomalies','Alerts']].resample('M').sum()\n",
    "M4_alerts = round(np.mean(results_M4['Alerts']), 2) \n",
    "\n",
    "avg_alerts = [M1_alerts, M3_alerts, M3_alerts, M4_alerts]\n"
   ]
  },
  {
   "cell_type": "code",
   "execution_count": null,
   "metadata": {},
   "outputs": [],
   "source": [
    "# threshold is set to 15 alerts/month\n",
    "\n",
    "##modelfiles = glob.glob('*tst_pred*.csv')  \n",
    "##j = len(modelfiles)\n",
    "\n",
    "##modelnames = []\n",
    "##for i in range(0, j):\n",
    "##    n = modelfiles[i]\n",
    "##    nm = n[0:-4]\n",
    "##    modelnames.append(nm)\n",
    "    \n",
    "##mids = []\n",
    "##for i in range(0, j):\n",
    "#    n = modelfiles[i]\n",
    "#    m = n[0:7] + str(i)\n",
    "##    m = 'M' + str(i)\n",
    "##    mids.append(m)\n",
    "\n",
    "below_thres = []\n",
    "for i in range(0, j):\n",
    "    if avg_alerts[i] <= 15:\n",
    "        below_thres.append('Y')\n",
    "    else:\n",
    "        below_thres.append('N')"
   ]
  },
  {
   "cell_type": "code",
   "execution_count": null,
   "metadata": {},
   "outputs": [],
   "source": [
    "#df = pd.DataFrame(columns = ['ModelIds', 'Models', 'Average Alerts', 'Below Threshold'])\n",
    "\n",
    "#for i in range(0, j):\n",
    "#    df = df.append({'ModelIds':mids[i], 'Models':modelnames[i], 'Average Alerts':avg_alerts[i], 'Below Threshold': below_thres[i]}, ignore_index = True)\n",
    "   \n",
    "#df"
   ]
  },
  {
   "cell_type": "code",
   "execution_count": null,
   "metadata": {},
   "outputs": [],
   "source": [
    "df.to_csv('avg_monthly_alerts_Bukkom.csv')"
   ]
  }
 ],
 "metadata": {
  "kernelspec": {
   "display_name": "Python 3",
   "language": "python",
   "name": "python3"
  },
  "language_info": {
   "codemirror_mode": {
    "name": "ipython",
    "version": 3
   },
   "file_extension": ".py",
   "mimetype": "text/x-python",
   "name": "python",
   "nbconvert_exporter": "python",
   "pygments_lexer": "ipython3",
   "version": "3.6.8"
  }
 },
 "nbformat": 4,
 "nbformat_minor": 2
}
