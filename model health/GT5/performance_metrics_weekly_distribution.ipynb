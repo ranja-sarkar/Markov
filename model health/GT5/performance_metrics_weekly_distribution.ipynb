{
 "cells": [
  {
   "cell_type": "code",
   "execution_count": 1,
   "metadata": {},
   "outputs": [],
   "source": [
    "import pandas as pd\n",
    "import matplotlib.pyplot as plt\n",
    "import seaborn as sns"
   ]
  },
  {
   "cell_type": "code",
   "execution_count": 2,
   "metadata": {},
   "outputs": [],
   "source": [
    "import warnings\n",
    "warnings.filterwarnings(\"ignore\")"
   ]
  },
  {
   "cell_type": "code",
   "execution_count": 3,
   "metadata": {},
   "outputs": [],
   "source": [
    "# Loading test output from the model and converting to time index\n",
    "\n",
    "filename1 = r'Brunei_Champion_GT5_tst_pred_01Dec2018_01Jul2019.csv'\n",
    "#filename2 = r'Brunei_Champion_GT5_trn_pred_01Dec2017_30Nov2018.csv'\n",
    "\n",
    "dateparse = lambda x: pd.datetime.strptime(x, '%Y-%m-%d %H:%M:%S')\n",
    "df = pd.read_csv(filename1, parse_dates = ['timestamp'], date_parser = dateparse)\n",
    "df.set_index('timestamp', inplace = True)\n",
    "df['date'] = df.index\n"
   ]
  },
  {
   "cell_type": "code",
   "execution_count": 4,
   "metadata": {},
   "outputs": [],
   "source": [
    "# Changing -1 to 1 and 1 to 0 [1 denotes anomaly, 0 denotes normal]\n",
    "\n",
    "df.prediction = df.prediction.replace(1, 0)\n",
    "df.prediction = df.prediction.replace(-1, 1)\n",
    "\n",
    "df['anomaly'] = 0\n",
    "df.loc[(df['system_status'] == 'online') & (df['prediction'] == 1), 'anomaly'] = 1\n",
    "\n",
    "df['normal'] = 0\n",
    "df.loc[(df['system_status'] == 'online') & (df['prediction'] == 0), 'normal'] = 1\n",
    "\n",
    "df['sys_status'] = 0\n",
    "df.loc[(df['system_status'] == 'online'), 'sys_status'] = 1\n",
    "df.loc[(df['system_status'] == 'offline'), 'sys_status'] = 0\n",
    "\n",
    "df['flips'] = 0\n",
    "df.loc[(df['system_status'] == 'online') & (df['alert'] == 1) & (df['prediction'] == 1), 'flips'] = 1\n",
    "\n",
    "df['counter_flips'] = 0\n",
    "df.loc[(df['system_status'] == 'online') & (df['alert'] == 0) & (df['prediction'] == 1), 'counter_flips'] = 1\n"
   ]
  },
  {
   "cell_type": "code",
   "execution_count": 5,
   "metadata": {},
   "outputs": [],
   "source": [
    "## Creating results dataframe\n",
    "\n",
    "resultsdf = df[['anomaly','flips','counter_flips', 'normal','sys_status']].resample('W').sum()\n",
    "#resultsdf = df[['anomaly','flips','counter_flips', 'normal']].resample('W').sum()\n",
    "resultsdf.columns = ['anomaly_count','flips_count','counter_flips_count', 'model_uptime_count','online_status_count']\n",
    "#resultsdf.columns = ['anomaly_count','flips_count','counter_flips_count', 'model_uptime_count']\n",
    "\n",
    "x = df[['prediction', 'sys_status']].resample('W').count()\n",
    "\n",
    "resultsdf['Total_counts'] = x['prediction']\n",
    "\n",
    "resultsdf['anomaly_ratio'] = resultsdf['anomaly_count'] / resultsdf['Total_counts']\n",
    "resultsdf['flips_ratio'] = resultsdf['flips_count'] / resultsdf['Total_counts']\n",
    "resultsdf['counter_flips_ratio'] = resultsdf['counter_flips_count'] / resultsdf['Total_counts']\n",
    "resultsdf['model_uptime_ratio'] = resultsdf['model_uptime_count'] / resultsdf['Total_counts']\n",
    "resultsdf ['machine availability'] =  (resultsdf['online_status_count']/ (x['sys_status'])) * 100\n"
   ]
  },
  {
   "cell_type": "code",
   "execution_count": 6,
   "metadata": {},
   "outputs": [],
   "source": [
    "resultsdf.drop(resultsdf.tail(1).index, inplace = True)"
   ]
  },
  {
   "cell_type": "code",
   "execution_count": 7,
   "metadata": {},
   "outputs": [
    {
     "data": {
      "text/plain": [
       "31"
      ]
     },
     "execution_count": 7,
     "metadata": {},
     "output_type": "execute_result"
    }
   ],
   "source": [
    "len(resultsdf) #datapoints  "
   ]
  },
  {
   "cell_type": "code",
   "execution_count": 8,
   "metadata": {},
   "outputs": [],
   "source": [
    "#train dataset\n",
    "\n",
    "#resultsdf.fillna(0, inplace = True)"
   ]
  },
  {
   "cell_type": "code",
   "execution_count": null,
   "metadata": {},
   "outputs": [],
   "source": [
    "# 6months test data\n",
    "# 1month realtime data"
   ]
  },
  {
   "cell_type": "code",
   "execution_count": 8,
   "metadata": {},
   "outputs": [],
   "source": [
    "resultsdf1 = resultsdf.head(27)\n",
    "resultsdf2 = resultsdf.tail(4)"
   ]
  },
  {
   "cell_type": "code",
   "execution_count": 26,
   "metadata": {},
   "outputs": [
    {
     "data": {
      "text/plain": [
       "Text(0.5, 1.0, 'Distribution over 7 months testing period')"
      ]
     },
     "execution_count": 26,
     "metadata": {},
     "output_type": "execute_result"
    },
    {
     "data": {
      "image/png": "[encoded data removed]",
      "text/plain": [
       "<Figure size 432x288 with 1 Axes>"
      ]
     },
     "metadata": {
      "needs_background": "light"
     },
     "output_type": "display_data"
    }
   ],
   "source": [
    "# Create anomaly ratio distribution plot\n",
    "\n",
    "ax = sns.distplot(resultsdf['anomaly_ratio'], color = \"r\")\n",
    "ax.set(xlabel = 'Anomaly Ratio')\n",
    "plt.title('Distribution over 7 months testing period')"
   ]
  },
  {
   "cell_type": "code",
   "execution_count": 27,
   "metadata": {
    "scrolled": true
   },
   "outputs": [
    {
     "data": {
      "text/plain": [
       "Text(0.5, 1.0, 'Distribution over 7 months testing period')"
      ]
     },
     "execution_count": 27,
     "metadata": {},
     "output_type": "execute_result"
    },
    {
     "data": {
      "image/png": "[encoded data removed]",
      "text/plain": [
       "<Figure size 432x288 with 1 Axes>"
      ]
     },
     "metadata": {
      "needs_background": "light"
     },
     "output_type": "display_data"
    }
   ],
   "source": [
    "# Create flips ratio distribution plot\n",
    "\n",
    "ax = sns.distplot(resultsdf['flips_ratio'], color = \"r\")\n",
    "ax.set(xlabel = 'Flips Ratio')\n",
    "plt.title('Distribution over 7 months testing period')"
   ]
  },
  {
   "cell_type": "code",
   "execution_count": 28,
   "metadata": {},
   "outputs": [
    {
     "data": {
      "text/plain": [
       "Text(0.5, 1.0, 'Distribution over 7 months testing period')"
      ]
     },
     "execution_count": 28,
     "metadata": {},
     "output_type": "execute_result"
    },
    {
     "data": {
      "image/png": "[encoded data removed]",
      "text/plain": [
       "<Figure size 432x288 with 1 Axes>"
      ]
     },
     "metadata": {
      "needs_background": "light"
     },
     "output_type": "display_data"
    }
   ],
   "source": [
    "# Create counter_flips ratio distribution plot\n",
    "\n",
    "ax = sns.distplot(resultsdf['counter_flips_ratio'], color = \"r\")\n",
    "ax.set(xlabel = 'Counter Flips Ratio')\n",
    "plt.title('Distribution over 7 months testing period')"
   ]
  },
  {
   "cell_type": "code",
   "execution_count": 29,
   "metadata": {},
   "outputs": [
    {
     "data": {
      "text/plain": [
       "Text(0.5, 1.0, 'Distribution over 7 months testing period')"
      ]
     },
     "execution_count": 29,
     "metadata": {},
     "output_type": "execute_result"
    },
    {
     "data": {
      "image/png": "[encoded data removed]",
      "text/plain": [
       "<Figure size 432x288 with 1 Axes>"
      ]
     },
     "metadata": {
      "needs_background": "light"
     },
     "output_type": "display_data"
    }
   ],
   "source": [
    "# Create model_uptime_ratio distribution plot\n",
    "\n",
    "ax = sns.distplot(resultsdf['model_uptime_ratio'], color = \"r\")\n",
    "ax.set(xlabel = 'Model Uptime Ratio')\n",
    "plt.title('Distribution over 7 months testing period')"
   ]
  },
  {
   "cell_type": "code",
   "execution_count": 9,
   "metadata": {},
   "outputs": [],
   "source": [
    "import numpy as np\n",
    "from statistics import stdev"
   ]
  },
  {
   "cell_type": "code",
   "execution_count": 10,
   "metadata": {},
   "outputs": [],
   "source": [
    "n = len(resultsdf1)\n",
    "\n",
    "A11 = np.mean(resultsdf1['anomaly_ratio'])\n",
    "A22 = np.mean(resultsdf1['flips_ratio'])\n",
    "A33 = np.mean(resultsdf1['counter_flips_ratio'])\n",
    "A44 = np.mean(resultsdf1['model_uptime_ratio'])\n",
    "\n",
    "#Mi11 = min(resultsdf['anomaly_ratio'])\n",
    "#Mi22 = min(resultsdf['flips_ratio'])\n",
    "#Mi33 = min(resultsdf['counter_flips_ratio'])\n",
    "#Mi44 = min(resultsdf['model_uptime_ratio'])\n",
    "\n",
    "#Ma11 = max(resultsdf['anomaly_ratio'])\n",
    "#Ma22 = max(resultsdf['flips_ratio'])\n",
    "#Ma33 = max(resultsdf['counter_flips_ratio'])\n",
    "#Ma44 = max(resultsdf['model_uptime_ratio'])\n",
    "\n",
    "#S11 = np.std(resultsdf['anomaly_ratio'])\n",
    "S11 = stdev(resultsdf1['anomaly_ratio'])\n",
    "S22 = stdev(resultsdf1['flips_ratio'])\n",
    "S33 = stdev(resultsdf1['counter_flips_ratio'])\n",
    "S44 = stdev(resultsdf1['model_uptime_ratio'])\n"
   ]
  },
  {
   "cell_type": "code",
   "execution_count": 12,
   "metadata": {},
   "outputs": [
    {
     "data": {
      "text/html": [
       "<div>\n",
       "<style scoped>\n",
       "    .dataframe tbody tr th:only-of-type {\n",
       "        vertical-align: middle;\n",
       "    }\n",
       "\n",
       "    .dataframe tbody tr th {\n",
       "        vertical-align: top;\n",
       "    }\n",
       "\n",
       "    .dataframe thead th {\n",
       "        text-align: right;\n",
       "    }\n",
       "</style>\n",
       "<table border=\"1\" class=\"dataframe\">\n",
       "  <thead>\n",
       "    <tr style=\"text-align: right;\">\n",
       "      <th></th>\n",
       "      <th>Weeks</th>\n",
       "      <th>Metrics</th>\n",
       "      <th>Average</th>\n",
       "      <th>Standard Deviation</th>\n",
       "    </tr>\n",
       "  </thead>\n",
       "  <tbody>\n",
       "    <tr>\n",
       "      <th>0</th>\n",
       "      <td>27</td>\n",
       "      <td>Anomaly Ratio</td>\n",
       "      <td>NaN</td>\n",
       "      <td>0.178777</td>\n",
       "    </tr>\n",
       "    <tr>\n",
       "      <th>1</th>\n",
       "      <td>27</td>\n",
       "      <td>Flips Ratio</td>\n",
       "      <td>0.001874</td>\n",
       "      <td>0.003473</td>\n",
       "    </tr>\n",
       "    <tr>\n",
       "      <th>2</th>\n",
       "      <td>27</td>\n",
       "      <td>Counter Flips Ratio</td>\n",
       "      <td>0.071135</td>\n",
       "      <td>0.177242</td>\n",
       "    </tr>\n",
       "    <tr>\n",
       "      <th>3</th>\n",
       "      <td>27</td>\n",
       "      <td>Model Uptime Ratio</td>\n",
       "      <td>0.620701</td>\n",
       "      <td>0.458069</td>\n",
       "    </tr>\n",
       "  </tbody>\n",
       "</table>\n",
       "</div>"
      ],
      "text/plain": [
       "  Weeks              Metrics   Average  Standard Deviation\n",
       "0    27        Anomaly Ratio       NaN            0.178777\n",
       "1    27          Flips Ratio  0.001874            0.003473\n",
       "2    27  Counter Flips Ratio  0.071135            0.177242\n",
       "3    27   Model Uptime Ratio  0.620701            0.458069"
      ]
     },
     "execution_count": 12,
     "metadata": {},
     "output_type": "execute_result"
    }
   ],
   "source": [
    "dff = pd.DataFrame(columns = ['Weeks', 'Metrics', 'Average', 'Standard Deviation'])\n",
    "\n",
    "df1 = dff.append({'Weeks':n, 'Metrics':'Anomaly Ratio', 'Standard Deviation':S11}, ignore_index = True)\n",
    "df2 = df1.append({'Weeks':n, 'Metrics':'Flips Ratio', 'Average':A22, 'Standard Deviation':S22}, ignore_index = True)   \n",
    "df3 = df2.append({'Weeks':n, 'Metrics':'Counter Flips Ratio', 'Average':A33, 'Standard Deviation':S33}, ignore_index = True)\n",
    "df0 = df3.append({'Weeks':n, 'Metrics':'Model Uptime Ratio', 'Average':A44, 'Standard Deviation':S44}, ignore_index = True)\n",
    "\n",
    "df0\n"
   ]
  },
  {
   "cell_type": "code",
   "execution_count": 13,
   "metadata": {},
   "outputs": [],
   "source": [
    "n = len(resultsdf2)\n",
    "\n",
    "A11_1 = np.mean(resultsdf2['anomaly_ratio'])\n",
    "A22_1 = np.mean(resultsdf2['flips_ratio'])\n",
    "A33_1 = np.mean(resultsdf2['counter_flips_ratio'])\n",
    "A44_1 = np.mean(resultsdf2['model_uptime_ratio'])\n",
    "\n",
    "#S11 = np.std(resultsdf['anomaly_ratio'])\n",
    "S11_1 = stdev(resultsdf2['anomaly_ratio'])\n",
    "S22_1 = stdev(resultsdf2['flips_ratio'])\n",
    "S33_1 = stdev(resultsdf2['counter_flips_ratio'])\n",
    "S44_1 = stdev(resultsdf2['model_uptime_ratio'])\n",
    "\n",
    "s1 = S11_1 - S11\n",
    "s2 = S22_1 - S22\n",
    "s3 = S33_1 - S33\n",
    "s4 = S44_1 - S44\n",
    "\n",
    "a1 = A11_1 - A11\n",
    "a2 = A22_1 - A22\n",
    "a3 = A33_1 - A33\n",
    "a4 = A44_1 - A44"
   ]
  },
  {
   "cell_type": "code",
   "execution_count": 14,
   "metadata": {},
   "outputs": [
    {
     "data": {
      "text/html": [
       "<div>\n",
       "<style scoped>\n",
       "    .dataframe tbody tr th:only-of-type {\n",
       "        vertical-align: middle;\n",
       "    }\n",
       "\n",
       "    .dataframe tbody tr th {\n",
       "        vertical-align: top;\n",
       "    }\n",
       "\n",
       "    .dataframe thead th {\n",
       "        text-align: right;\n",
       "    }\n",
       "</style>\n",
       "<table border=\"1\" class=\"dataframe\">\n",
       "  <thead>\n",
       "    <tr style=\"text-align: right;\">\n",
       "      <th></th>\n",
       "      <th>Weeks</th>\n",
       "      <th>Metrics</th>\n",
       "      <th>Average</th>\n",
       "      <th>Standard Deviation</th>\n",
       "      <th>Size (SD)</th>\n",
       "      <th>Size (mean)</th>\n",
       "    </tr>\n",
       "  </thead>\n",
       "  <tbody>\n",
       "    <tr>\n",
       "      <th>0</th>\n",
       "      <td>4</td>\n",
       "      <td>Anomaly Ratio</td>\n",
       "      <td>0.934028</td>\n",
       "      <td>0.036230</td>\n",
       "      <td>-0.142547</td>\n",
       "      <td>0.861019</td>\n",
       "    </tr>\n",
       "    <tr>\n",
       "      <th>1</th>\n",
       "      <td>4</td>\n",
       "      <td>Flips Ratio</td>\n",
       "      <td>0.016121</td>\n",
       "      <td>0.006649</td>\n",
       "      <td>0.003176</td>\n",
       "      <td>0.014247</td>\n",
       "    </tr>\n",
       "    <tr>\n",
       "      <th>2</th>\n",
       "      <td>4</td>\n",
       "      <td>Counter Flips Ratio</td>\n",
       "      <td>0.917907</td>\n",
       "      <td>0.041850</td>\n",
       "      <td>-0.135392</td>\n",
       "      <td>0.846772</td>\n",
       "    </tr>\n",
       "    <tr>\n",
       "      <th>3</th>\n",
       "      <td>4</td>\n",
       "      <td>Model Uptime Ratio</td>\n",
       "      <td>0.061012</td>\n",
       "      <td>0.038682</td>\n",
       "      <td>-0.419387</td>\n",
       "      <td>-0.559689</td>\n",
       "    </tr>\n",
       "  </tbody>\n",
       "</table>\n",
       "</div>"
      ],
      "text/plain": [
       "  Weeks              Metrics   Average  Standard Deviation  Size (SD)  \\\n",
       "0     4        Anomaly Ratio  0.934028            0.036230  -0.142547   \n",
       "1     4          Flips Ratio  0.016121            0.006649   0.003176   \n",
       "2     4  Counter Flips Ratio  0.917907            0.041850  -0.135392   \n",
       "3     4   Model Uptime Ratio  0.061012            0.038682  -0.419387   \n",
       "\n",
       "   Size (mean)  \n",
       "0     0.861019  \n",
       "1     0.014247  \n",
       "2     0.846772  \n",
       "3    -0.559689  "
      ]
     },
     "execution_count": 14,
     "metadata": {},
     "output_type": "execute_result"
    }
   ],
   "source": [
    "dff = pd.DataFrame(columns = ['Weeks', 'Metrics', 'Average', 'Standard Deviation', 'Size (SD)', 'Size (mean)'])\n",
    "\n",
    "df1 = dff.append({'Weeks':n, 'Metrics':'Anomaly Ratio', 'Average':A11_1, 'Standard Deviation':S11_1, 'Size (SD)': s1, 'Size (mean)': a1}, ignore_index = True)\n",
    "df2 = df1.append({'Weeks':n, 'Metrics':'Flips Ratio', 'Average':A22_1, 'Standard Deviation':S22_1, 'Size (SD)' : s2, 'Size (mean)': a2}, ignore_index = True)   \n",
    "df3 = df2.append({'Weeks':n, 'Metrics':'Counter Flips Ratio', 'Average':A33_1, 'Standard Deviation':S33_1, 'Size (SD)': s3, 'Size (mean)': a3}, ignore_index = True)\n",
    "df0 = df3.append({'Weeks':n, 'Metrics':'Model Uptime Ratio', 'Average':A44_1, 'Standard Deviation':S44_1, 'Size (SD)': s4, 'Size (mean)': a4}, ignore_index = True)\n",
    "\n",
    "df0"
   ]
  },
  {
   "cell_type": "code",
   "execution_count": 15,
   "metadata": {},
   "outputs": [
    {
     "data": {
      "text/plain": [
       "<matplotlib.legend.Legend at 0x221f722e550>"
      ]
     },
     "execution_count": 15,
     "metadata": {},
     "output_type": "execute_result"
    },
    {
     "data": {
      "image/png": "[encoded data removed]",
      "text/plain": [
       "<Figure size 432x288 with 1 Axes>"
      ]
     },
     "metadata": {
      "needs_background": "light"
     },
     "output_type": "display_data"
    }
   ],
   "source": [
    "ax = sns.distplot(resultsdf1['anomaly_ratio'], color = \"b\", label = '27 weeks')\n",
    "ax.set(xlabel = 'Anomaly Ratio')\n",
    "ax = sns.distplot(resultsdf2['anomaly_ratio'], color = 'r', label = '4 weeks')\n",
    "\n",
    "ax.legend()"
   ]
  },
  {
   "cell_type": "code",
   "execution_count": 1,
   "metadata": {},
   "outputs": [],
   "source": []
  },
  {
   "cell_type": "code",
   "execution_count": null,
   "metadata": {},
   "outputs": [],
   "source": []
  },
  {
   "cell_type": "code",
   "execution_count": null,
   "metadata": {},
   "outputs": [],
   "source": [
    "# Validate counts from the test data output file (monthly)\n",
    "\n",
    "#df[['anomaly','flips','counter_flips','normal']].resample('M').sum()"
   ]
  }
 ],
 "metadata": {
  "kernelspec": {
   "display_name": "Python 3",
   "language": "python",
   "name": "python3"
  },
  "language_info": {
   "codemirror_mode": {
    "name": "ipython",
    "version": 3
   },
   "file_extension": ".py",
   "mimetype": "text/x-python",
   "name": "python",
   "nbconvert_exporter": "python",
   "pygments_lexer": "ipython3",
   "version": "3.6.8"
  }
 },
 "nbformat": 4,
 "nbformat_minor": 2
}
