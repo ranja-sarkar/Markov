{
 "cells": [
  {
   "cell_type": "code",
   "execution_count": null,
   "metadata": {},
   "outputs": [],
   "source": [
    "import pandas as pd\n",
    "import numpy as np\n",
    "#import matplotlib.pyplot as plt\n",
    "import datetime\n",
    "from datetime import timedelta\n",
    "\n",
    "import warnings\n",
    "warnings.filterwarnings(\"ignore\")\n",
    "\n",
    "import glob"
   ]
  },
  {
   "cell_type": "code",
   "execution_count": null,
   "metadata": {},
   "outputs": [],
   "source": [
    "# Obtain all the models in the relevant folder recursively\n",
    "\n",
    "def determine_number_of_models(folder_to_search):\n",
    "    folders = [f for f in glob.glob(folder_to_search + \"**/\", recursive = True)]\n",
    "    model_location = []\n",
    "    model_names = []\n",
    "    for folderscounter in folders:\n",
    "        model_location = [f for f in glob.glob(folderscounter + \"/*tst_pred*\", recursive = True)]\n",
    "    if len(model_location) > 0:\n",
    "        for cnt in model_location:\n",
    "            split_str = cnt.split('\\\\')\n",
    "            model_names.append(split_str[-1][:-4])\n",
    "    \n",
    "    return len(model_location), model_location, model_names"
   ]
  },
  {
   "cell_type": "code",
   "execution_count": null,
   "metadata": {},
   "outputs": [],
   "source": [
    "folder_to_search = r'C:/Users/Ranja.Sarkar/PAMre/KPIs/BSP_GT5/QualitativeKPI/fold'\n",
    "no_of_models, model_location, model_names = determine_number_of_models(folder_to_search)\n"
   ]
  },
  {
   "cell_type": "code",
   "execution_count": null,
   "metadata": {},
   "outputs": [],
   "source": [
    "# Load the failure file #Ensure the file is in relevant format\n",
    "\n",
    "def load_excel(path):\n",
    "#    dateparse = lambda x: pd.datetime.strptime(x, '%Y-%m-%d %H:%M:%S')\n",
    "    dfoutput = pd.read_excel(path, parse_dates = ['Failure Date'])\n",
    "    return dfoutput\n"
   ]
  },
  {
   "cell_type": "code",
   "execution_count": null,
   "metadata": {},
   "outputs": [],
   "source": [
    "# load the predicted output files\n",
    "\n",
    "def load_csv(path):\n",
    "    dateparse = lambda x: pd.datetime.strptime(x, '%Y-%m-%d %H:%M:%S')\n",
    "    dfoutput = pd.read_csv(path, parse_dates = ['timestamp'], date_parser = dateparse)\n",
    "    dfoutput.set_index(['timestamp'], inplace = True)\n",
    "    return dfoutput\n"
   ]
  },
  {
   "cell_type": "code",
   "execution_count": null,
   "metadata": {},
   "outputs": [],
   "source": [
    "location_of_failure_file = r'C:/Users/Ranja.Sarkar/PAMre/KPIs/BSP_GT5/QualitativeKPI/fold/GT5-downtime.xlsx'\n",
    "df_failure = load_excel(location_of_failure_file)\n"
   ]
  },
  {
   "cell_type": "code",
   "execution_count": null,
   "metadata": {},
   "outputs": [],
   "source": [
    "# Evaluate number of alerts before failure\n",
    "\n",
    "def evaluate_number_of_alerts_before_failure(df_failure, alert_results, model_name, output):\n",
    "    for cnt in range(0, len(df_failure)):                   \n",
    "        right_limit = df_failure.loc[cnt,'Failure Date']\n",
    "        left_limit = df_failure.loc[cnt,'Failure Date'] - timedelta(hours = 14*24)\n",
    "        sampdf = alert_results[(alert_results.index >= left_limit) & (alert_results.index < right_limit)]\n",
    "        if len(sampdf) > 0 :\n",
    "            sampdf = sampdf[(sampdf['system_status'] == 'online') & (sampdf['prediction'] == -1) & (sampdf['alert'] == 1)]\n",
    "        output.loc[cnt, model_name] = len(sampdf)\n",
    "    return output\n"
   ]
  },
  {
   "cell_type": "code",
   "execution_count": null,
   "metadata": {},
   "outputs": [],
   "source": [
    "# Generate Alert Ids\n",
    "\n",
    "def create_model_ids(model):\n",
    "    mid = []\n",
    "    for i in range(0, no_of_models):\n",
    "        c = 'M' + str(i)\n",
    "        mid.append(c)\n",
    "    return mid        \n",
    "\n",
    "def create_list(a, b, n):\n",
    "    output = ''\n",
    "    for i in range(int(n)):\n",
    "        output = output + str(a) + '.' + str(b) + '.' + str(i+1) + ';'\n",
    "    return output[:-1]\n",
    "\n",
    "def generate_alert_ids(output, model_name, m):\n",
    "    for j in range(0, len(output)):\n",
    "        xx = create_list(m, j+1, output.loc[j, model_name])\n",
    "        output.loc[j, model_name + '_AlertIds'] = xx                          \n",
    "    return output\n"
   ]
  },
  {
   "cell_type": "code",
   "execution_count": null,
   "metadata": {},
   "outputs": [],
   "source": [
    "location_of_rca_file = r'C:/Users/Ranja.Sarkar/PAMre/KPIs/BSP_GT5/QualitativeKPI/fold/Brunei_Champion_GT5_w1d_rca_by_rolling_z_score_01Aug2018_01Jul2019_rca_tag_rank.csv'\n",
    "df_rca = load_csv(location_of_rca_file)\n"
   ]
  },
  {
   "cell_type": "code",
   "execution_count": null,
   "metadata": {},
   "outputs": [],
   "source": [
    "# Root Cause Tags\n",
    "\n",
    "def isintop10(df_rca, sampdf, listofrcatags):\n",
    "    out = ''\n",
    "    if isinstance(listofrcatags, str):\n",
    "        splittags = listofrcatags.split(';')       \n",
    "        for i in range(len(sampdf)): \n",
    "#            print(i, len(sampdf))\n",
    "            templist = []\n",
    "            res = 0\n",
    "            for j in range(10):\n",
    "                templist.append(df_rca.loc[sampdf.index[i], 'top' + str(j+1)])           \n",
    "            for tagname in templist:\n",
    "                if tagname in splittags:\n",
    "                    res = 1     \n",
    "            if res == 1:\n",
    "                out = out + 'y' + ';'\n",
    "            if res == 0:\n",
    "                out = out + 'n' + ';'           \n",
    "    return out[:-1]\n",
    "    \n",
    "    \n",
    "def evaluate_presence_of_root_cause_tags(df_failure, alert_results, model_name, df_rca, output):  \n",
    "    for cnt in range(0, len(df_failure)):\n",
    "        out = ''\n",
    "        right_limit = df_failure.loc[cnt,'Failure Date']\n",
    "        left_limit = df_failure.loc[cnt,'Failure Date'] - timedelta(hours = 14*24)\n",
    "        sampdf = alert_results[(alert_results.index >= left_limit) & (alert_results.index < right_limit)]\n",
    "        if len(sampdf) > 0:\n",
    "            sampdf = sampdf[(sampdf['system_status'] == 'online') & (sampdf['prediction'] == -1) & (sampdf['alert'] == 1)]\n",
    "            output.loc[cnt, model_name + '_relevanttags'] = isintop10(df_rca, sampdf, df_failure.loc[cnt,'RCA_Tags'])\n",
    "#            output.loc[cnt, model_name + '_relevantags'] = isintop10(df_rca, sampdf, df_failure.loc[cnt,'RCA_Tags']).count('y')\n",
    "    return output\n"
   ]
  },
  {
   "cell_type": "code",
   "execution_count": null,
   "metadata": {},
   "outputs": [],
   "source": [
    "#for cnt in model_location:\n",
    "#    print(cnt)"
   ]
  },
  {
   "cell_type": "code",
   "execution_count": null,
   "metadata": {},
   "outputs": [],
   "source": [
    "k = 0\n",
    "analysis_result_df = df_failure\n",
    "mid = create_model_ids(no_of_models)\n",
    "for cnt in model_location:\n",
    "    print('processing', model_names[k])\n",
    "    alert_results = load_csv(cnt)\n",
    "    analysis_result_df = evaluate_number_of_alerts_before_failure(df_failure, alert_results, model_names[k], analysis_result_df)\n",
    "    analysis_result_df = generate_alert_ids(analysis_result_df, model_names[k], mid[k])\n",
    "    analysis_result_df = evaluate_presence_of_root_cause_tags(df_failure, alert_results, model_names[k], df_rca, analysis_result_df)\n",
    "#    print(alert_results)\n",
    "    k = k+1"
   ]
  },
  {
   "cell_type": "code",
   "execution_count": null,
   "metadata": {},
   "outputs": [],
   "source": [
    "#analysis_result_df.to_csv('Alert_Analysis_A.csv')"
   ]
  },
  {
   "cell_type": "code",
   "execution_count": null,
   "metadata": {},
   "outputs": [],
   "source": []
  },
  {
   "cell_type": "code",
   "execution_count": null,
   "metadata": {},
   "outputs": [],
   "source": []
  }
 ],
 "metadata": {
  "kernelspec": {
   "display_name": "Python 3",
   "language": "python",
   "name": "python3"
  },
  "language_info": {
   "codemirror_mode": {
    "name": "ipython",
    "version": 3
   },
   "file_extension": ".py",
   "mimetype": "text/x-python",
   "name": "python",
   "nbconvert_exporter": "python",
   "pygments_lexer": "ipython3",
   "version": "3.6.8"
  }
 },
 "nbformat": 4,
 "nbformat_minor": 2
}
