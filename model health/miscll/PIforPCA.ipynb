{
 "cells": [
  {
   "cell_type": "code",
   "execution_count": 3,
   "metadata": {},
   "outputs": [],
   "source": [
    "import os\n",
    "import pandas as pd\n",
    "import numpy as np\n",
    "from numpy import cov\n",
    "\n",
    "from scipy import linalg\n",
    "from sklearn import preprocessing\n",
    "import matplotlib.pyplot as plt\n",
    "\n",
    "import warnings\n",
    "warnings.filterwarnings(\"ignore\")"
   ]
  },
  {
   "cell_type": "code",
   "execution_count": 4,
   "metadata": {},
   "outputs": [],
   "source": [
    "#load input PI data\n",
    "\n",
    "df = pd.read_csv(\"GK.csv\")"
   ]
  },
  {
   "cell_type": "code",
   "execution_count": 5,
   "metadata": {},
   "outputs": [],
   "source": [
    "#data preprocessing\n",
    "\n",
    "df['datetime'] = pd.to_datetime(df['timestamp'])\n",
    "df = df.set_index('datetime')\n",
    "\n",
    "df = df.drop('timestamp', axis = 1)\n",
    "df = df.sort_index()\n",
    "\n",
    "scaler = preprocessing.MinMaxScaler()\n",
    "df = pd.DataFrame(scaler.fit_transform(df), columns = df.columns, index = df.index)"
   ]
  },
  {
   "cell_type": "code",
   "execution_count": 7,
   "metadata": {},
   "outputs": [],
   "source": [
    "from sklearn.decomposition import PCA\n",
    "\n",
    "#Step 1: Split data into 'train' and 'test' sets (turn them to dataframes with indices)\n",
    "#Step 2: Compress data into 2 Principal Components (PCs, define object 'pca')\n",
    "\n",
    "pca = PCA(n_components = 2, svd_solver = 'full')\n",
    "\n",
    "train_PCA = pca.fit_transform(train)\n",
    "train_PCA = pd.DataFrame(train_PCA)\n",
    "train_PCA.index = train.index\n",
    "\n",
    "test_PCA = pca.transform(test)\n",
    "test_PCA = pd.DataFrame(test_PCA)\n",
    "test_PCA.index = test.index"
   ]
  },
  {
   "cell_type": "code",
   "execution_count": 11,
   "metadata": {},
   "outputs": [],
   "source": [
    "def cov_matrix(data, verbose = False):\n",
    "    \"\"\"\n",
    "    Inverse covariance matrix is needed to detect outliers using distance metrics\n",
    "\n",
    "    \"\"\"\n",
    "    covariance_matrix = np.cov(data, rowvar = False)\n",
    "    if is_pos_def(covariance_matrix):\n",
    "        inv_covariance_matrix = linalg.inv(covariance_matrix)\n",
    "        if is_pos_def(inv_covariance_matrix):\n",
    "            return covariance_matrix, inv_covariance_matrix\n",
    "        else:\n",
    "            print(\"Error: Inverse of Covariance Matrix is not positive definite\")\n",
    "    else:\n",
    "        print(\"Error: Covariance Matrix is not positive definite\")"
   ]
  },
  {
   "cell_type": "code",
   "execution_count": null,
   "metadata": {},
   "outputs": [],
   "source": [
    "# define train/test datasets from the 2 PCs and get the covariance matrix\n",
    "\n",
    "data_train = np.array(train_PCA.values)\n",
    "data_test = np.array(test_PCA.values)\n",
    "\n",
    "covariance_matrix, inv_cov_matrix = cov_matrix(data_train, verbose = False)"
   ]
  },
  {
   "cell_type": "code",
   "execution_count": null,
   "metadata": {},
   "outputs": [],
   "source": []
  },
  {
   "cell_type": "code",
   "execution_count": null,
   "metadata": {},
   "outputs": [],
   "source": []
  }
 ],
 "metadata": {
  "kernelspec": {
   "display_name": "Python 3",
   "language": "python",
   "name": "python3"
  },
  "language_info": {
   "codemirror_mode": {
    "name": "ipython",
    "version": 3
   },
   "file_extension": ".py",
   "mimetype": "text/x-python",
   "name": "python",
   "nbconvert_exporter": "python",
   "pygments_lexer": "ipython3",
   "version": "3.7.6"
  }
 },
 "nbformat": 4,
 "nbformat_minor": 4
}
